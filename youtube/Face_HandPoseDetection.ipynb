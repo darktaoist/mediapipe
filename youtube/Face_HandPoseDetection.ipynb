{
 "cells": [
  {
   "cell_type": "code",
   "execution_count": 1,
   "metadata": {
    "collapsed": true
   },
   "outputs": [
    {
     "name": "stderr",
     "output_type": "stream",
     "text": [
      "objc[82397]: Class CaptureDelegate is implemented in both /Users/taoist/works/mediapipe/venv/lib/python3.8/site-packages/mediapipe/.dylibs/libopencv_videoio.3.4.16.dylib (0x1037c8860) and /Users/taoist/works/mediapipe/venv/lib/python3.8/site-packages/cv2/cv2.abi3.so (0x169026538). One of the two will be used. Which one is undefined.\n",
      "objc[82397]: Class CVWindow is implemented in both /Users/taoist/works/mediapipe/venv/lib/python3.8/site-packages/mediapipe/.dylibs/libopencv_highgui.3.4.16.dylib (0x102ee4a68) and /Users/taoist/works/mediapipe/venv/lib/python3.8/site-packages/cv2/cv2.abi3.so (0x169026588). One of the two will be used. Which one is undefined.\n",
      "objc[82397]: Class CVView is implemented in both /Users/taoist/works/mediapipe/venv/lib/python3.8/site-packages/mediapipe/.dylibs/libopencv_highgui.3.4.16.dylib (0x102ee4a90) and /Users/taoist/works/mediapipe/venv/lib/python3.8/site-packages/cv2/cv2.abi3.so (0x1690265b0). One of the two will be used. Which one is undefined.\n",
      "objc[82397]: Class CVSlider is implemented in both /Users/taoist/works/mediapipe/venv/lib/python3.8/site-packages/mediapipe/.dylibs/libopencv_highgui.3.4.16.dylib (0x102ee4ab8) and /Users/taoist/works/mediapipe/venv/lib/python3.8/site-packages/cv2/cv2.abi3.so (0x1690265d8). One of the two will be used. Which one is undefined.\n"
     ]
    }
   ],
   "source": [
    "import mediapipe as mp\n",
    "import cv2\n",
    "\n",
    "mp_drawing = mp.solutions.drawing_utils\n",
    "mp_holistic = mp.solutions.holistic"
   ]
  },
  {
   "cell_type": "code",
   "execution_count": 2,
   "outputs": [
    {
     "name": "stderr",
     "output_type": "stream",
     "text": [
      "INFO: Created TensorFlow Lite XNNPACK delegate for CPU.\n"
     ]
    },
    {
     "ename": "KeyboardInterrupt",
     "evalue": "",
     "output_type": "error",
     "traceback": [
      "\u001B[0;31m---------------------------------------------------------------------------\u001B[0m",
      "\u001B[0;31mKeyboardInterrupt\u001B[0m                         Traceback (most recent call last)",
      "Input \u001B[0;32mIn [2]\u001B[0m, in \u001B[0;36m<cell line: 3>\u001B[0;34m()\u001B[0m\n\u001B[1;32m     16\u001B[0m \u001B[38;5;66;03m#Draw face landmarks\u001B[39;00m\n\u001B[0;32m---> 17\u001B[0m \u001B[43mmp_drawing\u001B[49m\u001B[38;5;241;43m.\u001B[39;49m\u001B[43mdraw_landmarks\u001B[49m\u001B[43m(\u001B[49m\u001B[43mimage\u001B[49m\u001B[43m,\u001B[49m\u001B[43m \u001B[49m\u001B[43mresults\u001B[49m\u001B[38;5;241;43m.\u001B[39;49m\u001B[43mface_landmarks\u001B[49m\u001B[43m,\u001B[49m\u001B[43m \u001B[49m\u001B[43mmp_holistic\u001B[49m\u001B[38;5;241;43m.\u001B[39;49m\u001B[43mFACEMESH_TESSELATION\u001B[49m\u001B[43m)\u001B[49m\n\u001B[1;32m     19\u001B[0m \u001B[38;5;66;03m#right_hand\u001B[39;00m\n",
      "File \u001B[0;32m~/works/mediapipe/venv/lib/python3.8/site-packages/mediapipe/python/solutions/drawing_utils.py:159\u001B[0m, in \u001B[0;36mdraw_landmarks\u001B[0;34m(image, landmark_list, connections, landmark_drawing_spec, connection_drawing_spec)\u001B[0m\n\u001B[1;32m    158\u001B[0m idx_to_coordinates \u001B[38;5;241m=\u001B[39m {}\n\u001B[0;32m--> 159\u001B[0m \u001B[38;5;28;01mfor\u001B[39;00m idx, landmark \u001B[38;5;129;01min\u001B[39;00m \u001B[38;5;28menumerate\u001B[39m(landmark_list\u001B[38;5;241m.\u001B[39mlandmark):\n\u001B[1;32m    160\u001B[0m   \u001B[38;5;28;01mif\u001B[39;00m ((landmark\u001B[38;5;241m.\u001B[39mHasField(\u001B[38;5;124m'\u001B[39m\u001B[38;5;124mvisibility\u001B[39m\u001B[38;5;124m'\u001B[39m) \u001B[38;5;129;01mand\u001B[39;00m\n\u001B[1;32m    161\u001B[0m        landmark\u001B[38;5;241m.\u001B[39mvisibility \u001B[38;5;241m<\u001B[39m _VISIBILITY_THRESHOLD) \u001B[38;5;129;01mor\u001B[39;00m\n\u001B[1;32m    162\u001B[0m       (landmark\u001B[38;5;241m.\u001B[39mHasField(\u001B[38;5;124m'\u001B[39m\u001B[38;5;124mpresence\u001B[39m\u001B[38;5;124m'\u001B[39m) \u001B[38;5;129;01mand\u001B[39;00m\n\u001B[1;32m    163\u001B[0m        landmark\u001B[38;5;241m.\u001B[39mpresence \u001B[38;5;241m<\u001B[39m _PRESENCE_THRESHOLD)):\n",
      "File \u001B[0;32m/Applications/Xcode.app/Contents/Developer/Library/Frameworks/Python3.framework/Versions/3.8/lib/python3.8/_collections_abc.py:876\u001B[0m, in \u001B[0;36mSequence.__iter__\u001B[0;34m(self)\u001B[0m\n\u001B[1;32m    875\u001B[0m \u001B[38;5;28;01mwhile\u001B[39;00m \u001B[38;5;28;01mTrue\u001B[39;00m:\n\u001B[0;32m--> 876\u001B[0m     v \u001B[38;5;241m=\u001B[39m \u001B[38;5;28;43mself\u001B[39;49m\u001B[43m[\u001B[49m\u001B[43mi\u001B[49m\u001B[43m]\u001B[49m\n\u001B[1;32m    877\u001B[0m     \u001B[38;5;28;01myield\u001B[39;00m v\n",
      "File \u001B[0;32m~/works/mediapipe/venv/lib/python3.8/site-packages/google/protobuf/internal/containers.py:91\u001B[0m, in \u001B[0;36mBaseContainer.__getitem__\u001B[0;34m(self, key)\u001B[0m\n\u001B[1;32m     89\u001B[0m   \u001B[38;5;241m.\u001B[39m\u001B[38;5;241m.\u001B[39m\u001B[38;5;241m.\u001B[39m\n\u001B[0;32m---> 91\u001B[0m \u001B[38;5;28;01mdef\u001B[39;00m \u001B[38;5;21m__getitem__\u001B[39m(\u001B[38;5;28mself\u001B[39m, key):\n\u001B[1;32m     92\u001B[0m   \u001B[38;5;124;03m\"\"\"Retrieves item by the specified key.\"\"\"\u001B[39;00m\n",
      "\u001B[0;31mKeyboardInterrupt\u001B[0m: ",
      "\nDuring handling of the above exception, another exception occurred:\n",
      "\u001B[0;31mKeyboardInterrupt\u001B[0m                         Traceback (most recent call last)",
      "Input \u001B[0;32mIn [2]\u001B[0m, in \u001B[0;36m<cell line: 3>\u001B[0;34m()\u001B[0m\n\u001B[1;32m     28\u001B[0m         cv2\u001B[38;5;241m.\u001B[39mimshow(\u001B[38;5;124m'\u001B[39m\u001B[38;5;124mRaw Webcam Feed\u001B[39m\u001B[38;5;124m'\u001B[39m, image)\n\u001B[1;32m     30\u001B[0m         \u001B[38;5;28;01mif\u001B[39;00m cv2\u001B[38;5;241m.\u001B[39mwaitKey(\u001B[38;5;241m10\u001B[39m) \u001B[38;5;241m&\u001B[39m \u001B[38;5;241m0xFF\u001B[39m \u001B[38;5;241m==\u001B[39m  \u001B[38;5;28mord\u001B[39m(\u001B[38;5;124m'\u001B[39m\u001B[38;5;124mq\u001B[39m\u001B[38;5;124m'\u001B[39m):\n\u001B[0;32m---> 31\u001B[0m             \u001B[38;5;28;01mbreak\u001B[39;00m\n\u001B[1;32m     33\u001B[0m cap\u001B[38;5;241m.\u001B[39mrelease()\n\u001B[1;32m     34\u001B[0m cap\u001B[38;5;241m.\u001B[39mdestroyAllWindow()\n",
      "File \u001B[0;32m~/works/mediapipe/venv/lib/python3.8/site-packages/mediapipe/python/solution_base.py:624\u001B[0m, in \u001B[0;36mSolutionBase.__exit__\u001B[0;34m(self, exc_type, exc_val, exc_tb)\u001B[0m\n\u001B[1;32m    622\u001B[0m \u001B[38;5;28;01mdef\u001B[39;00m \u001B[38;5;21m__exit__\u001B[39m(\u001B[38;5;28mself\u001B[39m, exc_type, exc_val, exc_tb):\n\u001B[1;32m    623\u001B[0m   \u001B[38;5;124;03m\"\"\"Closes all the input sources and the graph.\"\"\"\u001B[39;00m\n\u001B[0;32m--> 624\u001B[0m   \u001B[38;5;28;43mself\u001B[39;49m\u001B[38;5;241;43m.\u001B[39;49m\u001B[43mclose\u001B[49m\u001B[43m(\u001B[49m\u001B[43m)\u001B[49m\n",
      "File \u001B[0;32m~/works/mediapipe/venv/lib/python3.8/site-packages/mediapipe/python/solution_base.py:382\u001B[0m, in \u001B[0;36mSolutionBase.close\u001B[0;34m(self)\u001B[0m\n\u001B[1;32m    380\u001B[0m \u001B[38;5;28;01mdef\u001B[39;00m \u001B[38;5;21mclose\u001B[39m(\u001B[38;5;28mself\u001B[39m) \u001B[38;5;241m-\u001B[39m\u001B[38;5;241m>\u001B[39m \u001B[38;5;28;01mNone\u001B[39;00m:\n\u001B[1;32m    381\u001B[0m   \u001B[38;5;124;03m\"\"\"Closes all the input sources and the graph.\"\"\"\u001B[39;00m\n\u001B[0;32m--> 382\u001B[0m   \u001B[38;5;28;43mself\u001B[39;49m\u001B[38;5;241;43m.\u001B[39;49m\u001B[43m_graph\u001B[49m\u001B[38;5;241;43m.\u001B[39;49m\u001B[43mclose\u001B[49m\u001B[43m(\u001B[49m\u001B[43m)\u001B[49m\n\u001B[1;32m    383\u001B[0m   \u001B[38;5;28mself\u001B[39m\u001B[38;5;241m.\u001B[39m_graph \u001B[38;5;241m=\u001B[39m \u001B[38;5;28;01mNone\u001B[39;00m\n\u001B[1;32m    384\u001B[0m   \u001B[38;5;28mself\u001B[39m\u001B[38;5;241m.\u001B[39m_input_stream_type_info \u001B[38;5;241m=\u001B[39m \u001B[38;5;28;01mNone\u001B[39;00m\n",
      "\u001B[0;31mKeyboardInterrupt\u001B[0m: "
     ]
    }
   ],
   "source": [
    "\n",
    "cap = cv2.VideoCapture(0)\n",
    "#Initiate holistic model\n",
    "with mp_holistic.Holistic(min_detection_confidence=0.5 , min_tracking_confidence=0.5) as holistic:\n",
    "    while cap.isOpened() :\n",
    "        ret, frame = cap.read()\n",
    "        #recolor Feed\n",
    "        image = cv2.cvtColor(frame, cv2.COLOR_BGR2RGB)\n",
    "\n",
    "        #Make Detections\n",
    "        results = holistic.process(image)\n",
    "        #print(results.pose_landmarks)\n",
    "\n",
    "        #Recolor image back to BGR for rendering\n",
    "        image = cv2.cvtColor(image, cv2.COLOR_RGB2BGR)\n",
    "\n",
    "        #Draw face landmarks\n",
    "        mp_drawing.draw_landmarks(image, results.face_landmarks, mp_holistic.FACEMESH_TESSELATION)\n",
    "\n",
    "        #right_hand\n",
    "        mp_drawing.draw_landmarks(image, results.right_hand_landmarks, mp_holistic.HAND_CONNECTIONS)\n",
    "\n",
    "        #left_han\n",
    "        mp_drawing.draw_landmarks(image, results.left_hand_landmarks, mp_holistic.HAND_CONNECTIONS)\n",
    "\n",
    "        #pose Detection\n",
    "        mp_drawing.draw_landmarks(image, results.pose_landmarks, mp_holistic.POSE_CONNECTIONS)\n",
    "\n",
    "        cv2.imshow('Raw Webcam Feed', image)\n",
    "\n",
    "        if cv2.waitKey(10) & 0xFF ==  ord('q'):\n",
    "            break\n",
    "\n",
    "cap.release()\n",
    "cap.destroyAllWindow()"
   ],
   "metadata": {
    "collapsed": false,
    "pycharm": {
     "name": "#%%\n"
    }
   }
  },
  {
   "cell_type": "code",
   "execution_count": null,
   "outputs": [],
   "source": [
    "mp_drawing.DrawingSpec(color=(0,0,255), thickness=2 , circle_radius=2)"
   ],
   "metadata": {
    "collapsed": false,
    "pycharm": {
     "name": "#%%\n"
    }
   }
  },
  {
   "cell_type": "code",
   "execution_count": null,
   "outputs": [],
   "source": [
    "#mp_drawing."
   ],
   "metadata": {
    "collapsed": false,
    "pycharm": {
     "name": "#%%\n"
    }
   }
  },
  {
   "cell_type": "code",
   "execution_count": null,
   "outputs": [],
   "source": [
    "cap = cv2.VideoCapture(0)\n",
    "#Initiate holistic model\n",
    "with mp_holistic.Holistic(min_detection_confidence=0.5 , min_tracking_confidence=0.5) as holistic:\n",
    "    while cap.isOpened() :\n",
    "        ret, frame = cap.read()\n",
    "        #recolor Feed\n",
    "        image = cv2.cvtColor(frame, cv2.COLOR_BGR2RGB)\n",
    "\n",
    "        #Make Detections\n",
    "        results = holistic.process(image)\n",
    "       # print(results.pose_landmarks)\n",
    "\n",
    "        #Recolor image back to BGR for rendering\n",
    "        image = cv2.cvtColor(image, cv2.COLOR_RGB2BGR)\n",
    "\n",
    "        #Draw face landmarks\n",
    "        mp_drawing.draw_landmarks(image, results.face_landmarks, mp_holistic.FACEMESH_TESSELATION,\n",
    "                                  mp_drawing.DrawingSpec(color=(80,110,10), thickness=2 , circle_radius=4),\n",
    "                                  mp_drawing.DrawingSpec(color=(80,256,121), thickness=2 , circle_radius=2)\n",
    "                                  )\n",
    "\n",
    "        #right_hand\n",
    "        mp_drawing.draw_landmarks(image, results.right_hand_landmarks, mp_holistic.HAND_CONNECTIONS,\n",
    "                                  mp_drawing.DrawingSpec(color=(255,0,0), thickness=2 , circle_radius=4),\n",
    "                                  mp_drawing.DrawingSpec(color=(240,0,0), thickness=2 , circle_radius=2)\n",
    "                                  )\n",
    "\n",
    "        #left_han\n",
    "        mp_drawing.draw_landmarks(image, results.left_hand_landmarks, mp_holistic.HAND_CONNECTIONS,\n",
    "                                  mp_drawing.DrawingSpec(color=(121,22,76), thickness=2 , circle_radius=4),\n",
    "                                  mp_drawing.DrawingSpec(color=(121,44,250), thickness=2 , circle_radius=2)\n",
    "                                  )\n",
    "\n",
    "        #pose Detection\n",
    "        mp_drawing.draw_landmarks(image, results.pose_landmarks, mp_holistic.POSE_CONNECTIONS,\n",
    "                                  mp_drawing.DrawingSpec(color=(245,117,66), thickness=2 , circle_radius=4),\n",
    "                                  mp_drawing.DrawingSpec(color=(245,66,230), thickness=2 , circle_radius=2)\n",
    "                                  )\n",
    "\n",
    "        cv2.imshow('Raw Webcam Feed', image)\n",
    "\n",
    "        if cv2.waitKey(10) & 0xFF ==  ord('q'):\n",
    "            break\n",
    "\n",
    "cap.release()\n",
    "cap.destroyAllWindow()"
   ],
   "metadata": {
    "collapsed": false,
    "pycharm": {
     "name": "#%%\n"
    }
   }
  }
 ],
 "metadata": {
  "kernelspec": {
   "display_name": "Python 3",
   "language": "python",
   "name": "python3"
  },
  "language_info": {
   "codemirror_mode": {
    "name": "ipython",
    "version": 2
   },
   "file_extension": ".py",
   "mimetype": "text/x-python",
   "name": "python",
   "nbconvert_exporter": "python",
   "pygments_lexer": "ipython2",
   "version": "2.7.6"
  }
 },
 "nbformat": 4,
 "nbformat_minor": 0
}