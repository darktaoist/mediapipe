{
 "cells": [
  {
   "cell_type": "code",
   "metadata": {
    "collapsed": true,
    "pycharm": {
     "name": "#%%\n"
    }
   },
   "source": [
    " import cv2\n",
    "import mediapipe as mp\n",
    "import numpy as np\n",
    "\n",
    "mp_drawing = mp.solutions.drawing_utils\n",
    "mp_pose = mp.solutions.pose"
   ],
   "execution_count": 1,
   "outputs": [
    {
     "name": "stderr",
     "output_type": "stream",
     "text": [
      "objc[82226]: Class CaptureDelegate is implemented in both /Users/taoist/works/mediapipe/venv/lib/python3.8/site-packages/cv2/cv2.abi3.so (0x176ede538) and /Users/taoist/works/mediapipe/venv/lib/python3.8/site-packages/mediapipe/.dylibs/libopencv_videoio.3.4.16.dylib (0x14dd84860). One of the two will be used. Which one is undefined.\n",
      "objc[82226]: Class CVWindow is implemented in both /Users/taoist/works/mediapipe/venv/lib/python3.8/site-packages/cv2/cv2.abi3.so (0x176ede588) and /Users/taoist/works/mediapipe/venv/lib/python3.8/site-packages/mediapipe/.dylibs/libopencv_highgui.3.4.16.dylib (0x10e5e8a68). One of the two will be used. Which one is undefined.\n",
      "objc[82226]: Class CVView is implemented in both /Users/taoist/works/mediapipe/venv/lib/python3.8/site-packages/cv2/cv2.abi3.so (0x176ede5b0) and /Users/taoist/works/mediapipe/venv/lib/python3.8/site-packages/mediapipe/.dylibs/libopencv_highgui.3.4.16.dylib (0x10e5e8a90). One of the two will be used. Which one is undefined.\n",
      "objc[82226]: Class CVSlider is implemented in both /Users/taoist/works/mediapipe/venv/lib/python3.8/site-packages/cv2/cv2.abi3.so (0x176ede5d8) and /Users/taoist/works/mediapipe/venv/lib/python3.8/site-packages/mediapipe/.dylibs/libopencv_highgui.3.4.16.dylib (0x10e5e8ab8). One of the two will be used. Which one is undefined.\n"
     ]
    }
   ]
  },
  {
   "cell_type": "markdown",
   "source": [
    "cap = cv2.VideoCapture(0)\n",
    "\n",
    "#setup mediapipe instance\n",
    "with mp_pose.Pose(min_detection_confidence=0.5 , min_tracking_confidence=0.5) as pose:\n",
    "    while cap.isOpened() :\n",
    "        ret, frame = cap.read()\n",
    "\n",
    "        #recolor image to RGB\n",
    "        image = cv2.cvtColor(frame, cv2.COLOR_BGR2RGB)\n",
    "        image.flags.writeable = False\n",
    "\n",
    "        #make detection\n",
    "        results = pose.process(image)\n",
    "\n",
    "        #Recolor image back to BGR for rendering\n",
    "        image.flags.writeable = True\n",
    "        image = cv2.cvtColor(image, cv2.COLOR_RGB2BGR)\n",
    "\n",
    "        # render detections\n",
    "        mp_drawing.draw_landmarks(image, results.pose_landmarks, mp_pose.POSE_CONNECTIONS,\n",
    "                                  mp_drawing.DrawingSpec(color=(245,117,66), thickness=2 , circle_radius=2),\n",
    "                                  mp_drawing.DrawingSpec(color=(245,66,230), thickness=2 , circle_radius=2)\n",
    "                                  )\n",
    "\n",
    "        cv2.imshow('Raw Webcam Feed', image)\n",
    "\n",
    "        if cv2.waitKey(10) & 0xFF ==  ord('q'):\n",
    "            break\n",
    "\n",
    "cap.release()\n",
    "cap.destroyAllWindow()"
   ],
   "metadata": {
    "collapsed": false,
    "pycharm": {
     "name": "#%% md\n"
    }
   }
  },
  {
   "cell_type": "markdown",
   "source": [
    "Determine Landmarks\n",
    "\n",
    "<img src=\"https://google.github.io/mediapipe/images/mobile/pose_tracking_full_body_landmarks.png\" />\n",
    "\n"
   ],
   "metadata": {
    "collapsed": false,
    "pycharm": {
     "name": "#%% md\n"
    }
   }
  },
  {
   "cell_type": "code",
   "execution_count": 2,
   "outputs": [],
   "source": [
    "def calculate_angle(a,b,c):\n",
    "    a = np.array(a) #first\n",
    "    b = np.array(b) #mid\n",
    "    c = np.array(c) #end\n",
    "\n",
    "    radians = np.arctan2(c[1]-b[1], c[0]-b[0]) - np.arctan2(a[1]-b[1], a[0]-b[0])\n",
    "    angle = np.abs(radians*180.0/np.pi)\n",
    "    if angle > 180.0 :\n",
    "        angle = 360-angle\n",
    "\n",
    "    return angle"
   ],
   "metadata": {
    "collapsed": false,
    "pycharm": {
     "name": "#%%\n"
    }
   }
  },
  {
   "cell_type": "markdown",
   "source": [
    "cap = cv2.VideoCapture(0)\n",
    "\n",
    "#setup mediapipe instance\n",
    "with mp_pose.Pose(min_detection_confidence=0.5 , min_tracking_confidence=0.5) as pose:\n",
    "    while cap.isOpened() :\n",
    "        ret, frame = cap.read()\n",
    "\n",
    "        #recolor image to RGB\n",
    "        image = cv2.cvtColor(frame, cv2.COLOR_BGR2RGB)\n",
    "        image.flags.writeable = False\n",
    "\n",
    "        #make detection\n",
    "        results = pose.process(image)\n",
    "\n",
    "        #Recolor image back to BGR for rendering\n",
    "        image.flags.writeable = True\n",
    "        image = cv2.cvtColor(image, cv2.COLOR_RGB2BGR)\n",
    "\n",
    "        #Extract Landmarks\n",
    "        try:\n",
    "            landmarks = results.pose_landmarks.landmark\n",
    "\n",
    "            #get coordinates\n",
    "            shoulder = [landmarks[mp_pose.PoseLandmark.LEFT_SHOULDER.value].x, landmarks[mp_pose.PoseLandmark.LEFT_SHOULDER.value].y]\n",
    "            elbow = [landmarks[mp_pose.PoseLandmark.LEFT_ELBOW.value].x, landmarks[mp_pose.PoseLandmark.LEFT_ELBOW.value].y]\n",
    "            wrist = [landmarks[mp_pose.PoseLandmark.LEFT_WRIST.value].x, landmarks[mp_pose.PoseLandmark.LEFT_WRIST.value].y]\n",
    "\n",
    "            #calculate angle\n",
    "            angle = calculate_angle(shoulder,elbow,wrist)\n",
    "            print(angle)\n",
    "            #visualize angle\n",
    "            cv2.putText(image, str(angle),\n",
    "                        tuple(np.multiply(elbow,[640,480]).astype(int)),\n",
    "                        cv2.FONT_HERSHEY_SIMPLEX, 0.5,(255,255,255),2, cv2.LINE_AA\n",
    "                        )\n",
    "\n",
    "            #print(landmarks)\n",
    "        except:\n",
    "            pass\n",
    "\n",
    "        # render detections\n",
    "        mp_drawing.draw_landmarks(image, results.pose_landmarks, mp_pose.POSE_CONNECTIONS,\n",
    "                                  mp_drawing.DrawingSpec(color=(245,117,66), thickness=2 , circle_radius=2),\n",
    "                                  mp_drawing.DrawingSpec(color=(245,66,230), thickness=2 , circle_radius=2)\n",
    "                                  )\n",
    "\n",
    "        cv2.imshow('Raw Webcam Feed 2', image)\n",
    "\n",
    "        if cv2.waitKey(10) & 0xFF ==  ord('q'):\n",
    "            break\n",
    "\n",
    "cap.release()\n",
    "cap.destroyAllWindow()"
   ],
   "metadata": {
    "collapsed": false,
    "pycharm": {
     "name": "#%% md\n"
    }
   }
  },
  {
   "cell_type": "markdown",
   "source": [
    "for lndmark in mp_pose.PoseLandmark:\n",
    "    print(lndmark)"
   ],
   "metadata": {
    "collapsed": false,
    "pycharm": {
     "name": "#%% md\n"
    }
   }
  },
  {
   "cell_type": "code",
   "execution_count": 3,
   "outputs": [
    {
     "name": "stderr",
     "output_type": "stream",
     "text": [
      "INFO: Created TensorFlow Lite XNNPACK delegate for CPU.\n"
     ]
    },
    {
     "name": "stdout",
     "output_type": "stream",
     "text": [
      "1\n",
      "2\n",
      "3\n",
      "4\n",
      "5\n",
      "6\n",
      "7\n",
      "8\n",
      "9\n",
      "10\n",
      "11\n",
      "12\n",
      "13\n",
      "14\n",
      "15\n",
      "16\n",
      "17\n",
      "18\n",
      "19\n"
     ]
    },
    {
     "ename": "KeyboardInterrupt",
     "evalue": "",
     "output_type": "error",
     "traceback": [
      "\u001B[0;31m---------------------------------------------------------------------------\u001B[0m",
      "\u001B[0;31mKeyboardInterrupt\u001B[0m                         Traceback (most recent call last)",
      "Input \u001B[0;32mIn [3]\u001B[0m, in \u001B[0;36m<cell line: 9>\u001B[0;34m()\u001B[0m\n\u001B[1;32m     10\u001B[0m \u001B[38;5;28;01mwhile\u001B[39;00m cap\u001B[38;5;241m.\u001B[39misOpened() :\n\u001B[0;32m---> 11\u001B[0m     ret, frame \u001B[38;5;241m=\u001B[39m \u001B[43mcap\u001B[49m\u001B[38;5;241;43m.\u001B[39;49m\u001B[43mread\u001B[49m\u001B[43m(\u001B[49m\u001B[43m)\u001B[49m\n\u001B[1;32m     13\u001B[0m     \u001B[38;5;66;03m#recolor image to RGB\u001B[39;00m\n",
      "\u001B[0;31mKeyboardInterrupt\u001B[0m: ",
      "\nDuring handling of the above exception, another exception occurred:\n",
      "\u001B[0;31mKeyboardInterrupt\u001B[0m                         Traceback (most recent call last)",
      "Input \u001B[0;32mIn [3]\u001B[0m, in \u001B[0;36m<cell line: 9>\u001B[0;34m()\u001B[0m\n\u001B[1;32m     77\u001B[0m         cv2\u001B[38;5;241m.\u001B[39mimshow(\u001B[38;5;124m'\u001B[39m\u001B[38;5;124mRaw Webcam Feed 2\u001B[39m\u001B[38;5;124m'\u001B[39m, image)\n\u001B[1;32m     79\u001B[0m         \u001B[38;5;28;01mif\u001B[39;00m cv2\u001B[38;5;241m.\u001B[39mwaitKey(\u001B[38;5;241m10\u001B[39m) \u001B[38;5;241m&\u001B[39m \u001B[38;5;241m0xFF\u001B[39m \u001B[38;5;241m==\u001B[39m  \u001B[38;5;28mord\u001B[39m(\u001B[38;5;124m'\u001B[39m\u001B[38;5;124mq\u001B[39m\u001B[38;5;124m'\u001B[39m):\n\u001B[0;32m---> 80\u001B[0m             \u001B[38;5;28;01mbreak\u001B[39;00m\n\u001B[1;32m     82\u001B[0m cap\u001B[38;5;241m.\u001B[39mrelease()\n\u001B[1;32m     83\u001B[0m cap\u001B[38;5;241m.\u001B[39mdestroyAllWindow()\n",
      "File \u001B[0;32m~/works/mediapipe/venv/lib/python3.8/site-packages/mediapipe/python/solution_base.py:624\u001B[0m, in \u001B[0;36mSolutionBase.__exit__\u001B[0;34m(self, exc_type, exc_val, exc_tb)\u001B[0m\n\u001B[1;32m    622\u001B[0m \u001B[38;5;28;01mdef\u001B[39;00m \u001B[38;5;21m__exit__\u001B[39m(\u001B[38;5;28mself\u001B[39m, exc_type, exc_val, exc_tb):\n\u001B[1;32m    623\u001B[0m   \u001B[38;5;124;03m\"\"\"Closes all the input sources and the graph.\"\"\"\u001B[39;00m\n\u001B[0;32m--> 624\u001B[0m   \u001B[38;5;28;43mself\u001B[39;49m\u001B[38;5;241;43m.\u001B[39;49m\u001B[43mclose\u001B[49m\u001B[43m(\u001B[49m\u001B[43m)\u001B[49m\n",
      "File \u001B[0;32m~/works/mediapipe/venv/lib/python3.8/site-packages/mediapipe/python/solution_base.py:382\u001B[0m, in \u001B[0;36mSolutionBase.close\u001B[0;34m(self)\u001B[0m\n\u001B[1;32m    380\u001B[0m \u001B[38;5;28;01mdef\u001B[39;00m \u001B[38;5;21mclose\u001B[39m(\u001B[38;5;28mself\u001B[39m) \u001B[38;5;241m-\u001B[39m\u001B[38;5;241m>\u001B[39m \u001B[38;5;28;01mNone\u001B[39;00m:\n\u001B[1;32m    381\u001B[0m   \u001B[38;5;124;03m\"\"\"Closes all the input sources and the graph.\"\"\"\u001B[39;00m\n\u001B[0;32m--> 382\u001B[0m   \u001B[38;5;28;43mself\u001B[39;49m\u001B[38;5;241;43m.\u001B[39;49m\u001B[43m_graph\u001B[49m\u001B[38;5;241;43m.\u001B[39;49m\u001B[43mclose\u001B[49m\u001B[43m(\u001B[49m\u001B[43m)\u001B[49m\n\u001B[1;32m    383\u001B[0m   \u001B[38;5;28mself\u001B[39m\u001B[38;5;241m.\u001B[39m_graph \u001B[38;5;241m=\u001B[39m \u001B[38;5;28;01mNone\u001B[39;00m\n\u001B[1;32m    384\u001B[0m   \u001B[38;5;28mself\u001B[39m\u001B[38;5;241m.\u001B[39m_input_stream_type_info \u001B[38;5;241m=\u001B[39m \u001B[38;5;28;01mNone\u001B[39;00m\n",
      "\u001B[0;31mKeyboardInterrupt\u001B[0m: "
     ]
    }
   ],
   "source": [
    "cap = cv2.VideoCapture(0)\n",
    "\n",
    "#Curl counter variables\n",
    "counter = 0\n",
    "stage = None\n",
    "\n",
    "\n",
    "#setup mediapipe instance\n",
    "with mp_pose.Pose(min_detection_confidence=0.5 , min_tracking_confidence=0.5) as pose:\n",
    "    while cap.isOpened() :\n",
    "        ret, frame = cap.read()\n",
    "\n",
    "        #recolor image to RGB\n",
    "        image = cv2.cvtColor(frame, cv2.COLOR_BGR2RGB)\n",
    "        image.flags.writeable = False\n",
    "\n",
    "        #make detection\n",
    "        results = pose.process(image)\n",
    "\n",
    "        #Recolor image back to BGR for rendering\n",
    "        image.flags.writeable = True\n",
    "        image = cv2.cvtColor(image, cv2.COLOR_RGB2BGR)\n",
    "\n",
    "        #Extract Landmarks\n",
    "        try:\n",
    "            landmarks = results.pose_landmarks.landmark\n",
    "\n",
    "            #get coordinates\n",
    "            shoulder = [landmarks[mp_pose.PoseLandmark.LEFT_SHOULDER.value].x, landmarks[mp_pose.PoseLandmark.LEFT_SHOULDER.value].y]\n",
    "            elbow = [landmarks[mp_pose.PoseLandmark.LEFT_ELBOW.value].x, landmarks[mp_pose.PoseLandmark.LEFT_ELBOW.value].y]\n",
    "            wrist = [landmarks[mp_pose.PoseLandmark.LEFT_WRIST.value].x, landmarks[mp_pose.PoseLandmark.LEFT_WRIST.value].y]\n",
    "\n",
    "            #calculate angle\n",
    "            angle = calculate_angle(shoulder,elbow,wrist)\n",
    "            #print(angle)\n",
    "            #visualize angle\n",
    "            cv2.putText(image, str(angle),\n",
    "                        tuple(np.multiply(elbow,[640,480]).astype(int)),\n",
    "                        cv2.FONT_HERSHEY_SIMPLEX, 0.5,(255,255,255),2, cv2.LINE_AA\n",
    "                        )\n",
    "\n",
    "            #Curl counter logic\n",
    "            if angle > 160:\n",
    "                stage = \"down\"\n",
    "            if angle < 30 and stage == 'down':\n",
    "                stage = \"up\"\n",
    "                counter += 1\n",
    "                print(counter)\n",
    "\n",
    "            #print(landmarks)\n",
    "        except:\n",
    "            pass\n",
    "\n",
    "        #render curl counter\n",
    "        #setup status box\n",
    "        cv2.rectangle(image, (0,0), (225,73),(245,117,16), -1)\n",
    "\n",
    "        #Rep data\n",
    "        cv2.putText(image, 'REPS', (15,12),\n",
    "                    cv2.FONT_HERSHEY_SIMPLEX, 0.5,(0,0,0),1, cv2.LINE_AA)\n",
    "        cv2.putText(image, str(counter), (10,60),\n",
    "                    cv2.FONT_HERSHEY_SIMPLEX, 2,(255,255,255),1, cv2.LINE_AA)\n",
    "\n",
    "        #Stage data\n",
    "        cv2.putText(image, 'STAGE', (65,12),\n",
    "                    cv2.FONT_HERSHEY_SIMPLEX, 0.5,(0,0,0),1, cv2.LINE_AA)\n",
    "        cv2.putText(image, stage, (60,60),\n",
    "                    cv2.FONT_HERSHEY_SIMPLEX, 2,(255,255,255),1, cv2.LINE_AA)\n",
    "\n",
    "\n",
    "        # render detections\n",
    "        mp_drawing.draw_landmarks(image, results.pose_landmarks, mp_pose.POSE_CONNECTIONS,\n",
    "                                  mp_drawing.DrawingSpec(color=(245,117,66), thickness=2 , circle_radius=2),\n",
    "                                  mp_drawing.DrawingSpec(color=(245,66,230), thickness=2 , circle_radius=2)\n",
    "                                  )\n",
    "\n",
    "        cv2.imshow('Raw Webcam Feed 2', image)\n",
    "\n",
    "        if cv2.waitKey(10) & 0xFF ==  ord('q'):\n",
    "            break\n",
    "\n",
    "cap.release()\n",
    "cap.destroyAllWindow()"
   ],
   "metadata": {
    "collapsed": false,
    "pycharm": {
     "name": "#%%\n"
    }
   }
  }
 ],
 "metadata": {
  "kernelspec": {
   "display_name": "Python 3",
   "language": "python",
   "name": "python3"
  },
  "language_info": {
   "codemirror_mode": {
    "name": "ipython",
    "version": 2
   },
   "file_extension": ".py",
   "mimetype": "text/x-python",
   "name": "python",
   "nbconvert_exporter": "python",
   "pygments_lexer": "ipython2",
   "version": "2.7.6"
  }
 },
 "nbformat": 4,
 "nbformat_minor": 0
}