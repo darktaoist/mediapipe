{
 "cells": [
  {
   "cell_type": "code",
   "execution_count": 1,
   "metadata": {
    "collapsed": true
   },
   "outputs": [
    {
     "data": {
      "text/plain": "'1.23.2'"
     },
     "execution_count": 1,
     "metadata": {},
     "output_type": "execute_result"
    }
   ],
   "source": [
    "import numpy as np\n",
    "\n",
    "np.__version__"
   ]
  },
  {
   "cell_type": "code",
   "execution_count": 2,
   "outputs": [
    {
     "data": {
      "text/plain": "'4.6.0'"
     },
     "execution_count": 2,
     "metadata": {},
     "output_type": "execute_result"
    }
   ],
   "source": [
    "import cv2 as cv\n",
    "\n",
    "cv.__version__"
   ],
   "metadata": {
    "collapsed": false,
    "pycharm": {
     "name": "#%%\n"
    }
   }
  },
  {
   "cell_type": "code",
   "execution_count": 1,
   "outputs": [
    {
     "name": "stderr",
     "output_type": "stream",
     "text": [
      "objc[4864]: Class CaptureDelegate is implemented in both /Users/taoist/works/mediapipe/venv/lib/python3.8/site-packages/mediapipe/.dylibs/libopencv_videoio.3.4.16.dylib (0x1071cc860) and /Users/taoist/works/mediapipe/venv/lib/python3.8/site-packages/cv2/cv2.abi3.so (0x28e50e538). One of the two will be used. Which one is undefined.\n",
      "objc[4864]: Class CVWindow is implemented in both /Users/taoist/works/mediapipe/venv/lib/python3.8/site-packages/mediapipe/.dylibs/libopencv_highgui.3.4.16.dylib (0x106f14a68) and /Users/taoist/works/mediapipe/venv/lib/python3.8/site-packages/cv2/cv2.abi3.so (0x28e50e588). One of the two will be used. Which one is undefined.\n",
      "objc[4864]: Class CVView is implemented in both /Users/taoist/works/mediapipe/venv/lib/python3.8/site-packages/mediapipe/.dylibs/libopencv_highgui.3.4.16.dylib (0x106f14a90) and /Users/taoist/works/mediapipe/venv/lib/python3.8/site-packages/cv2/cv2.abi3.so (0x28e50e5b0). One of the two will be used. Which one is undefined.\n",
      "objc[4864]: Class CVSlider is implemented in both /Users/taoist/works/mediapipe/venv/lib/python3.8/site-packages/mediapipe/.dylibs/libopencv_highgui.3.4.16.dylib (0x106f14ab8) and /Users/taoist/works/mediapipe/venv/lib/python3.8/site-packages/cv2/cv2.abi3.so (0x28e50e5d8). One of the two will be used. Which one is undefined.\n"
     ]
    }
   ],
   "source": [
    "# mediapipe import\n",
    "import mediapipe as mp\n",
    "mp.resource_util.set_resource_dir(\"/\")"
   ],
   "metadata": {
    "collapsed": false,
    "pycharm": {
     "name": "#%%\n"
    }
   }
  },
  {
   "cell_type": "code",
   "execution_count": 4,
   "outputs": [],
   "source": [
    "cap = cv.VideoCapture(0)\n",
    "while(True):\n",
    "\n",
    "    ret, img_color = cap.read()\n",
    "\n",
    "    if ret == False:\n",
    "        continue;\n",
    "\n",
    "    cv.imshow('bgr', img_color)\n",
    "\n",
    "    # ESC 키누르면 종료\n",
    "    if cv.waitKey(1) & 0xFF == 27:\n",
    "        break\n",
    "\n",
    "\n",
    "cap.release()\n",
    "cv.destroyAllWindows()"
   ],
   "metadata": {
    "collapsed": false,
    "pycharm": {
     "name": "#%%\n"
    }
   }
  }
 ],
 "metadata": {
  "kernelspec": {
   "display_name": "Python 3",
   "language": "python",
   "name": "python3"
  },
  "language_info": {
   "codemirror_mode": {
    "name": "ipython",
    "version": 2
   },
   "file_extension": ".py",
   "mimetype": "text/x-python",
   "name": "python",
   "nbconvert_exporter": "python",
   "pygments_lexer": "ipython2",
   "version": "2.7.6"
  }
 },
 "nbformat": 4,
 "nbformat_minor": 0
}